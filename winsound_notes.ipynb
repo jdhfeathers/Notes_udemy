{
 "cells": [
  {
   "cell_type": "code",
   "execution_count": 11,
   "metadata": {},
   "outputs": [],
   "source": [
    "import winsound\n",
    "\n",
    "#frequency is set to 500Hz\n",
    "\n",
    "freq = 500\n",
    "#Duration is set to 500 milliseconds\n",
    "dur = 500\n",
    "\n",
    "winsound.Beep(freq, dur)"
   ]
  },
  {
   "cell_type": "code",
   "execution_count": 19,
   "metadata": {},
   "outputs": [],
   "source": [
    "winsound.Beep(400,300)#the first parameter,correspond to the frequence the second is duration in milliseconds"
   ]
  },
  {
   "cell_type": "code",
   "execution_count": 20,
   "metadata": {},
   "outputs": [],
   "source": [
    "#just for practice to undestand besides the module winsound\n",
    "#what frequence in sounds works."
   ]
  },
  {
   "cell_type": "markdown",
   "metadata": {},
   "source": [
    "Signature: winsound.Beep(frequency, duration)\n",
    "Docstring:\n",
    "A wrapper around the Windows Beep API.\n",
    "\n",
    "frequency\n",
    "  Frequency of the sound in hertz.\n",
    "  Must be in the range 37 through 32,767.\n",
    "duration\n",
    "  How long the sound should play, in milliseconds.\n",
    "Type:      builtin_function_or_method"
   ]
  },
  {
   "cell_type": "code",
   "execution_count": 51,
   "metadata": {},
   "outputs": [],
   "source": [
    "winsound.Beep(100,300) #the Sound is low tone in the six or seven notes of the keyboard \n",
    "#in 100 herz, 300 milliseconds time enough"
   ]
  },
  {
   "cell_type": "code",
   "execution_count": 52,
   "metadata": {},
   "outputs": [],
   "source": [
    "winsound.Beep(200,300) #the sound is the sound is medium equivalen to five\n",
    "#in the "
   ]
  },
  {
   "cell_type": "code",
   "execution_count": 53,
   "metadata": {},
   "outputs": [],
   "source": [
    "winsound.Beep(300,300) #The sound is high mid equivalent to four"
   ]
  },
  {
   "cell_type": "code",
   "execution_count": 54,
   "metadata": {},
   "outputs": [],
   "source": [
    "winsound.Beep(400,300) # The souns soft equivalent to three "
   ]
  },
  {
   "cell_type": "code",
   "execution_count": 55,
   "metadata": {},
   "outputs": [],
   "source": [
    "winsound.Beep(500,300) #the sound is high equivalent to two on keyboard"
   ]
  },
  {
   "cell_type": "code",
   "execution_count": 57,
   "metadata": {},
   "outputs": [],
   "source": [
    "winsound.Beep(600,300) #the sound is high equivalent to one on keyboard"
   ]
  },
  {
   "cell_type": "code",
   "execution_count": 59,
   "metadata": {},
   "outputs": [],
   "source": [
    "winsound.Beep(700,300)#the higests down"
   ]
  },
  {
   "cell_type": "code",
   "execution_count": 61,
   "metadata": {},
   "outputs": [],
   "source": [
    "winsound.Beep(767,300)"
   ]
  },
  {
   "cell_type": "code",
   "execution_count": 78,
   "metadata": {},
   "outputs": [
    {
     "name": "stdout",
     "output_type": "stream",
     "text": [
      "None\n"
     ]
    }
   ],
   "source": [
    "#this methods beep the sound changing the frequence of the sound for nine times \n",
    "#this might be the way that the alarm of my phone works\n",
    "def alarm():\n",
    "    fr=100\n",
    "    tm=300\n",
    "    for i in range(9):\n",
    "        winsound.Beep(fr,300)\n",
    "        fr+=100\n",
    "print(alarm())"
   ]
  },
  {
   "cell_type": "code",
   "execution_count": 84,
   "metadata": {},
   "outputs": [
    {
     "name": "stdout",
     "output_type": "stream",
     "text": [
      "None\n"
     ]
    }
   ],
   "source": [
    "def al2():\n",
    "    fr=500\n",
    "    tm=100\n",
    "    for i in range(9):\n",
    "        winsound.Beep(fr,tm)\n",
    "        #fr+=100\n",
    "        tm+=100\n",
    "print(al2())"
   ]
  },
  {
   "cell_type": "code",
   "execution_count": null,
   "metadata": {},
   "outputs": [],
   "source": []
  },
  {
   "cell_type": "code",
   "execution_count": null,
   "metadata": {},
   "outputs": [],
   "source": []
  }
 ],
 "metadata": {
  "kernelspec": {
   "display_name": "Python 3",
   "language": "python",
   "name": "python3"
  },
  "language_info": {
   "codemirror_mode": {
    "name": "ipython",
    "version": 3
   },
   "file_extension": ".py",
   "mimetype": "text/x-python",
   "name": "python",
   "nbconvert_exporter": "python",
   "pygments_lexer": "ipython3",
   "version": "3.7.6"
  }
 },
 "nbformat": 4,
 "nbformat_minor": 4
}
