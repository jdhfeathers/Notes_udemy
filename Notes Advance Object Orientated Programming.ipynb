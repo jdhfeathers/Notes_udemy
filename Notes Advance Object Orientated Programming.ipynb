{
 "cells": [
  {
   "cell_type": "code",
   "execution_count": 2,
   "metadata": {},
   "outputs": [
    {
     "name": "stdout",
     "output_type": "stream",
     "text": [
      "Yuki Says Woof!\n",
      "kitty Soft Claws Says Meow!\n"
     ]
    }
   ],
   "source": [
    "'''\n",
    "Examples of Object Orientated Programming \n",
    "'''\n",
    "\n",
    "class Animal:\n",
    "    \n",
    "    #Constructor of the Class\n",
    "    \n",
    "    def __init__(self, name):\n",
    "        self.name = name\n",
    "    \n",
    "    #Method\n",
    "    \n",
    "    def speak(self):\n",
    "        #Abstract method, defined by convention only\n",
    "        raise NotImplementedError ('Subclass Must Implement abstract Method')\n",
    "\n",
    "        \n",
    "#creating a Class Ineheritated\n",
    "\n",
    "class Dog(Animal):\n",
    "    def speak(self):\n",
    "        return self.name + ' Says Woof!'\n",
    "    \n",
    "class Cat(Animal):\n",
    "    def speak(self):\n",
    "        return self.name + ' Says Meow!'\n",
    "    \n",
    "#Instancing the Class\n",
    "\n",
    "d=Dog('Yuki')\n",
    "c=Cat('kitty Soft Claws')\n",
    "\n",
    "#Printing statements of the classes\n",
    "\n",
    "print(d.speak())\n",
    "print(c.speak())\n",
    "\n"
   ]
  },
  {
   "cell_type": "code",
   "execution_count": 4,
   "metadata": {},
   "outputs": [],
   "source": [
    "#In the couple of examples, the derived classes did not have  __init__ method \n",
    "#because they inherit this from the Animal Class\n",
    "#They don't need the method __init__ \n",
    "\n",
    "#if you define an __init__ this will null the base\n",
    "\n"
   ]
  },
  {
   "cell_type": "code",
   "execution_count": 8,
   "metadata": {},
   "outputs": [
    {
     "name": "stdout",
     "output_type": "stream",
     "text": [
      "Yogi\n",
      "4\n",
      "Yes\n",
      "<__main__.Bear object at 0x0000001FDEF94C08>\n"
     ]
    }
   ],
   "source": [
    "'''\n",
    "example of a second class with init duplicated\n",
    "'''\n",
    "\n",
    "class Animal2:\n",
    "    \n",
    "#Creating the Class    \n",
    "    \n",
    "    def __init__(self, name ,legs):\n",
    "        self.name=name\n",
    "        self.legs=legs\n",
    "    \n",
    "#Creating a sub class ineherited\n",
    "\n",
    "\n",
    "class Bear(Animal2):\n",
    "    def __init__(self, name , legs=4, hibernate = 'Yes'):\n",
    "        Animal2.__init__(self,name,legs)\n",
    "        self.hibernate = hibernate\n",
    "        \n",
    "        \n",
    "y = Bear('Yogi')\n",
    "print(y.name)\n",
    "print(y.legs)\n",
    "print(y.hibernate)\n",
    "print(y)"
   ]
  },
  {
   "cell_type": "code",
   "execution_count": 11,
   "metadata": {},
   "outputs": [],
   "source": [
    "'''\n",
    "Another example of Derived Classes to Multiple Inheritance\n",
    "'''\n",
    "\n",
    "class Car:\n",
    "    def __init__(self, wheels=4):\n",
    "        self.wheels = wheels\n",
    "        \n",
    "        #We'll say that all cars, no matter their engine, have four wheels by default\n",
    "  \n",
    "    #subclass that inherit the attributes of >Cars\n",
    "\n",
    "class Gasoline(Car):\n",
    "    def __init__(self, engine='Gasoline', tank_cap=20):\n",
    "        Car.__init__(self)\n",
    "        self.engine = engine\n",
    "        self.tank_cap = tank_cap #represents full tank capacity in gallons\n",
    "        self.tank = 0\n",
    "        \n",
    "    def refuel(self):\n",
    "        self.tank = self.tank_cap\n",
    "        \n",
    "        \n",
    "        \n",
    "class Electric(Car):\n",
    "    def __init__(self, engine= 'Electric', kwh_cap=60):\n",
    "        Car.__init__(self)\n",
    "        self.engine = engine\n",
    "        self.kwh_cap = kwh_cap #Represent battery capacity in Kilowatts per hour\n",
    "        self.kwh = 0\n",
    "        \n",
    "    def recharge(self):\n",
    "        self.kwh = self.kwh_cap\n",
    "        \n",
    "        \n"
   ]
  },
  {
   "cell_type": "code",
   "execution_count": 14,
   "metadata": {},
   "outputs": [
    {
     "name": "stdout",
     "output_type": "stream",
     "text": [
      "Prius wheels: \n",
      " 4\n",
      "Prius Engine: \n",
      " Hybrid\n",
      "Prius Tank Capacity for Gasoline: \n",
      " 11\n",
      "Prous Battery Capacity: \n",
      " 5\n"
     ]
    }
   ],
   "source": [
    "'''\n",
    ">This third class inherits the attributes from the past two\n",
    "'''\n",
    "\n",
    "class Hybrid(Gasoline ,Electric):#thru this statement multiple inheritance\n",
    "    def __init__(self , engine = 'Hybrid' , tank_cap=11, kwh_cap = 5):\n",
    "        Gasoline.__init__(self,engine,tank_cap)#calling the attributes of Gasoline\n",
    "        Electric.__init__(self,engine ,kwh_cap)#Calling the Attributes of Electric\n",
    "        \n",
    "#instancing just the Hybrid that will have all the attributes Car, Gasoline and Electric Attributes\n",
    "prius = Hybrid()\n",
    "\n",
    "\n",
    "#Testing the instance\n",
    "\n",
    "print('Prius wheels:','\\n',prius.wheels)\n",
    "print('Prius Engine:','\\n',prius.engine)\n",
    "print('Prius Tank Capacity for Gasoline:','\\n',prius.tank_cap)\n",
    "print('Prous Battery Capacity:','\\n',prius.kwh_cap)\n",
    "\n",
    "\n",
    "    "
   ]
  },
  {
   "cell_type": "code",
   "execution_count": null,
   "metadata": {},
   "outputs": [],
   "source": [
    "#The´Hybrid class Inherit the attributes for Engine and Gaoline, as well as Car,\n",
    "\n",
    "#Multiple inheritance by\n",
    "#class Name(class1 , class 2)\n",
    "\n",
    "#to create separte __init__(self, attributes1 , attributes2 ):\n",
    "        #from an inheritated Class\n",
    "    #def __init__(self):\n",
    "        #class1.__init__(self attrbte1)\n",
    "        #class2.__inti__(self,attrbte2)\n"
   ]
  },
  {
   "cell_type": "markdown",
   "metadata": {},
   "source": [
    "Hyerarqui of the the classes\n",
    "\n",
    "If one class object has multiple derived classes inheritance this is resolved my Method Resolution \n",
    "\n",
    "If classes B and C each derive from A and class D derives from both B and C, which class is the firs in line when a methos is called on D?\n",
    "\n"
   ]
  },
  {
   "cell_type": "code",
   "execution_count": 1,
   "metadata": {},
   "outputs": [],
   "source": [
    "#The logic anwer to me is to look fisrt to the imediate class Inheritated so in this case will be \n",
    "#Classes B and C\n",
    "#Example"
   ]
  },
  {
   "cell_type": "code",
   "execution_count": 2,
   "metadata": {},
   "outputs": [],
   "source": [
    "class A:\n",
    "    num =4\n",
    "    \n",
    "class B(A):\n",
    "    pass\n",
    "\n",
    "class C(A):\n",
    "    num =5\n",
    "    \n",
    "class D(B,C):\n",
    "    pass# when the attribute is called it will look first at B and C instead of A\n"
   ]
  },
  {
   "cell_type": "code",
   "execution_count": 3,
   "metadata": {},
   "outputs": [
    {
     "data": {
      "text/plain": [
       "5"
      ]
     },
     "execution_count": 3,
     "metadata": {},
     "output_type": "execute_result"
    }
   ],
   "source": [
    "D.num"
   ]
  },
  {
   "cell_type": "code",
   "execution_count": 4,
   "metadata": {},
   "outputs": [],
   "source": [
    "class A:\n",
    "    def truth(self):\n",
    "        return 'All number are even'\n",
    "\n",
    "class B(A):\n",
    "    pass\n",
    "\n",
    "class C(A):\n",
    "    def truth (self):\n",
    "        return 'Some numbers are Even'\n",
    "    "
   ]
  },
  {
   "cell_type": "code",
   "execution_count": 10,
   "metadata": {},
   "outputs": [
    {
     "name": "stdout",
     "output_type": "stream",
     "text": [
      "Some numbers are Even\n",
      "All number are even\n"
     ]
    }
   ],
   "source": [
    "class D(B,C):\n",
    "    def truth(self, num):\n",
    "        if num%2 ==0:\n",
    "            return A.truth(self)\n",
    "        else:\n",
    "            return super().truth()\n",
    "        \n",
    "d=D()\n",
    "print(d.truth(9))\n",
    "print(d.truth(6))\n",
    "\n",
    "    "
   ]
  },
  {
   "cell_type": "code",
   "execution_count": null,
   "metadata": {},
   "outputs": [],
   "source": [
    "#THE  method\n",
    "# super().method() # thru this method I tell that should check truth method in class A if \n",
    "#the number is even if is not it will check the method truth in the inheritated classes  B and C"
   ]
  }
 ],
 "metadata": {
  "kernelspec": {
   "display_name": "Python 3",
   "language": "python",
   "name": "python3"
  },
  "language_info": {
   "codemirror_mode": {
    "name": "ipython",
    "version": 3
   },
   "file_extension": ".py",
   "mimetype": "text/x-python",
   "name": "python",
   "nbconvert_exporter": "python",
   "pygments_lexer": "ipython3",
   "version": "3.7.4"
  }
 },
 "nbformat": 4,
 "nbformat_minor": 2
}
